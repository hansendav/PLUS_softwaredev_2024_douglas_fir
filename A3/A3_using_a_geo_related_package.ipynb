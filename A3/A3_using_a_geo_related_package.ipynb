{
 "cells": [
  {
   "cell_type": "markdown",
   "id": "b21f6df7baecf30d",
   "metadata": {
    "collapsed": false,
    "jupyter": {
     "outputs_hidden": false
    }
   },
   "source": [
    "# Assignment 3 - GEE API and folium mapping"
   ]
  },
  {
   "cell_type": "markdown",
   "id": "7d0f40bec8d0b3f4",
   "metadata": {
    "collapsed": false,
    "jupyter": {
     "outputs_hidden": false
    }
   },
   "source": [
    "## Aim: \n",
    "In our group project we want to create a python package for generating vegetation indices, mapping, time-series (something like this). Because I haven't worked with the python API for GEE yet, so I want to use this notebook to filter data from the Sentinel-2 collection and choose the latest image with low cloud percentage. Next step is to calculate the NDVI and display it using either the folium package or the geemap functions (which are build upon folium themselves). "
   ]
  },
  {
   "cell_type": "markdown",
   "id": "71b00f1273bec84f",
   "metadata": {
    "collapsed": false,
    "jupyter": {
     "outputs_hidden": false
    }
   },
   "source": [
    "## Installation of the GEE-API in new environment \n",
    "- Workflow based on: https://developers.google.com/earth-engine/guides/python_install-conda \n",
    "- Created a new conda environment named: 'gee_test' that has all needed packages installed -> see exported environment file.\n"
   ]
  },
  {
   "cell_type": "markdown",
   "id": "ed3da222d6c78478",
   "metadata": {
    "collapsed": false,
    "jupyter": {
     "outputs_hidden": false
    }
   },
   "source": [
    "## GEE Initialization"
   ]
  },
  {
   "cell_type": "code",
   "execution_count": 26,
   "id": "initial_id",
   "metadata": {
    "ExecuteTime": {
     "end_time": "2024-05-05T08:40:49.893394Z",
     "start_time": "2024-05-05T08:40:49.886195Z"
    }
   },
   "outputs": [],
   "source": [
    "# Import needed libraries \n",
    "import ee\n",
    "import folium"
   ]
  },
  {
   "cell_type": "code",
   "execution_count": 27,
   "id": "33d25de93aacb29f",
   "metadata": {
    "ExecuteTime": {
     "end_time": "2024-05-04T18:25:30.777032Z",
     "start_time": "2024-05-04T18:25:24.683713Z"
    },
    "collapsed": false,
    "jupyter": {
     "outputs_hidden": false
    }
   },
   "outputs": [],
   "source": [
    "# In order to use GEE (its EO data collections AND computing resources) we have to authentificate\n",
    "# and to initialize the project we want to work in. \n",
    "ee.Authenticate()\n",
    "ee.Initialize(project='ee-davidhansen896')"
   ]
  },
  {
   "cell_type": "code",
   "execution_count": 28,
   "id": "a211a00e111c1a87",
   "metadata": {
    "ExecuteTime": {
     "end_time": "2024-05-04T18:25:31.207521Z",
     "start_time": "2024-05-04T18:25:30.778097Z"
    },
    "collapsed": false,
    "jupyter": {
     "outputs_hidden": false
    }
   },
   "outputs": [
    {
     "name": "stdout",
     "output_type": "stream",
     "text": [
      "Hello From the Earth Engine servers!\n"
     ]
    }
   ],
   "source": [
    "# Check initialization of GEE \n",
    "print(ee.String('Hello From the Earth Engine servers!').getInfo())"
   ]
  },
  {
   "cell_type": "markdown",
   "id": "76c139e1-cb24-430c-ab6c-23acd84d589f",
   "metadata": {},
   "source": [
    "## Create AOI "
   ]
  },
  {
   "cell_type": "code",
   "execution_count": 29,
   "id": "6dafa47da7f2b399",
   "metadata": {
    "ExecuteTime": {
     "end_time": "2024-05-04T19:18:54.392397Z",
     "start_time": "2024-05-04T19:18:54.385879Z"
    },
    "collapsed": false,
    "jupyter": {
     "outputs_hidden": false
    }
   },
   "outputs": [
    {
     "data": {
      "text/plain": [
       "{'type': 'Polygon',\n",
       " 'coordinates': [[[-2.9, 47.48],\n",
       "   [-2.6, 47.48],\n",
       "   [-2.6, 47.63],\n",
       "   [-2.9, 47.63],\n",
       "   [-2.9, 47.48]]]}"
      ]
     },
     "execution_count": 29,
     "metadata": {},
     "output_type": "execute_result"
    }
   ],
   "source": [
    "# Create a rectangle from latlong-coordinates: Golf of Morbihan - Vannes \n",
    "aoi = ee.Geometry.Rectangle([\n",
    "    -2.9, # lon min\n",
    "    47.48, # lat min\n",
    "    -2.6, # lon max\n",
    "    47.63 # lat max\n",
    "]) \n",
    "aoi.getInfo()"
   ]
  },
  {
   "cell_type": "markdown",
   "id": "636d7d66-9c6e-4438-85e9-764dac048f27",
   "metadata": {},
   "source": [
    "## Subsetting the Sentinel-2 harmonized surface reflectance collection "
   ]
  },
  {
   "cell_type": "code",
   "execution_count": 30,
   "id": "8f53a569af050448",
   "metadata": {
    "ExecuteTime": {
     "end_time": "2024-05-04T19:19:21.293378Z",
     "start_time": "2024-05-04T19:19:21.287240Z"
    },
    "collapsed": false,
    "jupyter": {
     "outputs_hidden": false
    }
   },
   "outputs": [
    {
     "name": "stdout",
     "output_type": "stream",
     "text": [
      "7\n"
     ]
    }
   ],
   "source": [
    "# Set start and end dates for our image selection\n",
    "start_date = '2023-06-01' \n",
    "end_date = '2023-08-31'\n",
    "\n",
    "# Select S2 selection\n",
    "s2 = ee.ImageCollection('COPERNICUS/S2_SR_HARMONIZED')\n",
    "\n",
    "# Filter selection based on aoi boundaries, dates and cloud percentage <= 10 (ee.Filter.lte()) \n",
    "collection = s2.filterBounds(aoi).filterDate(start_date, end_date).filter(ee.Filter.lte('CLOUDY_PIXEL_PERCENTAGE', 10))\n",
    "\n",
    "# Print the number of images in the collection\n",
    "print(collection.size().getInfo())"
   ]
  },
  {
   "cell_type": "markdown",
   "id": "de2763eb-022c-4ca6-be64-1ed97cb38d98",
   "metadata": {},
   "source": [
    "## Reduce collection and NDVI calculation\n",
    "We decide to first reduce the collection to a single image by calculating the mean for every pixel based on the corresponding pixels in all - in this case - 7 images. After that we select the red and infrared band of the reduced image and calcualte the NDVI. "
   ]
  },
  {
   "cell_type": "code",
   "execution_count": 31,
   "id": "7dd85052-7aec-44bd-964c-823e80801419",
   "metadata": {},
   "outputs": [],
   "source": [
    "# reduce the image using mean \n",
    "mean_img = collection.mean()"
   ]
  },
  {
   "cell_type": "code",
   "execution_count": 32,
   "id": "66df79a833ef81c9",
   "metadata": {
    "ExecuteTime": {
     "end_time": "2024-05-04T19:40:43.596600Z",
     "start_time": "2024-05-04T19:40:35.187935Z"
    },
    "collapsed": false,
    "jupyter": {
     "outputs_hidden": false
    }
   },
   "outputs": [],
   "source": [
    "# Extract bands\n",
    "red = mean_img.select('B4')\n",
    "nir = mean_img.select('B8') \n",
    "\n",
    "# Calculate NDVI and save as 'NDVI' in an image object\n",
    "ndvi = nir.subtract(red).divide(nir.add(red)).rename('NDVI')\n",
    "#print(ndvi.getInfo())\n",
    "\n",
    "nvdi = ndvi.clip(aoi)"
   ]
  },
  {
   "cell_type": "markdown",
   "id": "f89d289a-1550-4f27-b522-ef519986dbdc",
   "metadata": {},
   "source": [
    "## Mapping \n",
    "First we use the following function for adding ee_layers to a folium map: \n",
    "Using 'getMapId()' the MapId dictionary with given visual parameters is returned. We use this to fetch the tiles url_format. Which then is used to add the images to the map. "
   ]
  },
  {
   "cell_type": "code",
   "execution_count": 33,
   "id": "b01b78cbb115d072",
   "metadata": {
    "ExecuteTime": {
     "end_time": "2024-05-04T19:19:29.060522Z",
     "start_time": "2024-05-04T19:19:29.054567Z"
    },
    "collapsed": false,
    "jupyter": {
     "outputs_hidden": false
    }
   },
   "outputs": [],
   "source": [
    "# Create folium mapping function for GEE images: From GEE Documentary\n",
    "# https://developers.google.com/earth-engine/guides/python_install-colab#interactive_map\n",
    "\n",
    "# Define a method for displaying Earth Engine image tiles to folium map.\n",
    "def add_ee_layer(self, ee_image_object, vis_params, name):\n",
    "    map_id_dict = ee.Image(ee_image_object).getMapId(vis_params)\n",
    "    folium.raster_layers.TileLayer(\n",
    "        tiles = map_id_dict['tile_fetcher'].url_format,\n",
    "        attr = \"Map Data © Google Earth Engine\",\n",
    "        name = name,\n",
    "        overlay = True,\n",
    "        control = True\n",
    "    ).add_to(self)\n",
    "\n",
    "# Add EE drawing method to folium.\n",
    "folium.Map.add_ee_layer = add_ee_layer"
   ]
  },
  {
   "cell_type": "code",
   "execution_count": 34,
   "id": "b0526d3a-4c3c-40b6-a868-f1f775886bbf",
   "metadata": {},
   "outputs": [],
   "source": [
    "# Get the center of the map by refering to the centroid information of the aoi rectangle\n",
    "map_center = [aoi.centroid().getInfo()['coordinates'][1], aoi.centroid().getInfo()['coordinates'][0]] # latitude comes first "
   ]
  },
  {
   "cell_type": "code",
   "execution_count": 35,
   "id": "dfe6dd3fc20b586d",
   "metadata": {
    "ExecuteTime": {
     "end_time": "2024-05-04T19:31:13.390882Z",
     "start_time": "2024-05-04T19:31:09.395317Z"
    },
    "collapsed": false,
    "jupyter": {
     "outputs_hidden": false
    }
   },
   "outputs": [
    {
     "data": {
      "text/html": [
       "<div style=\"width:100%;\"><div style=\"position:relative;width:100%;height:0;padding-bottom:60%;\"><span style=\"color:#565656\">Make this Notebook Trusted to load map: File -> Trust Notebook</span><iframe srcdoc=\"&lt;!DOCTYPE html&gt;\n",
       "&lt;html&gt;\n",
       "&lt;head&gt;\n",
       "    \n",
       "    &lt;meta http-equiv=&quot;content-type&quot; content=&quot;text/html; charset=UTF-8&quot; /&gt;\n",
       "    \n",
       "        &lt;script&gt;\n",
       "            L_NO_TOUCH = false;\n",
       "            L_DISABLE_3D = false;\n",
       "        &lt;/script&gt;\n",
       "    \n",
       "    &lt;style&gt;html, body {width: 100%;height: 100%;margin: 0;padding: 0;}&lt;/style&gt;\n",
       "    &lt;style&gt;#map {position:absolute;top:0;bottom:0;right:0;left:0;}&lt;/style&gt;\n",
       "    &lt;script src=&quot;https://cdn.jsdelivr.net/npm/leaflet@1.9.3/dist/leaflet.js&quot;&gt;&lt;/script&gt;\n",
       "    &lt;script src=&quot;https://code.jquery.com/jquery-1.12.4.min.js&quot;&gt;&lt;/script&gt;\n",
       "    &lt;script src=&quot;https://cdn.jsdelivr.net/npm/bootstrap@5.2.2/dist/js/bootstrap.bundle.min.js&quot;&gt;&lt;/script&gt;\n",
       "    &lt;script src=&quot;https://cdnjs.cloudflare.com/ajax/libs/Leaflet.awesome-markers/2.0.2/leaflet.awesome-markers.js&quot;&gt;&lt;/script&gt;\n",
       "    &lt;link rel=&quot;stylesheet&quot; href=&quot;https://cdn.jsdelivr.net/npm/leaflet@1.9.3/dist/leaflet.css&quot;/&gt;\n",
       "    &lt;link rel=&quot;stylesheet&quot; href=&quot;https://cdn.jsdelivr.net/npm/bootstrap@5.2.2/dist/css/bootstrap.min.css&quot;/&gt;\n",
       "    &lt;link rel=&quot;stylesheet&quot; href=&quot;https://netdna.bootstrapcdn.com/bootstrap/3.0.0/css/bootstrap.min.css&quot;/&gt;\n",
       "    &lt;link rel=&quot;stylesheet&quot; href=&quot;https://cdn.jsdelivr.net/npm/@fortawesome/fontawesome-free@6.2.0/css/all.min.css&quot;/&gt;\n",
       "    &lt;link rel=&quot;stylesheet&quot; href=&quot;https://cdnjs.cloudflare.com/ajax/libs/Leaflet.awesome-markers/2.0.2/leaflet.awesome-markers.css&quot;/&gt;\n",
       "    &lt;link rel=&quot;stylesheet&quot; href=&quot;https://cdn.jsdelivr.net/gh/python-visualization/folium/folium/templates/leaflet.awesome.rotate.min.css&quot;/&gt;\n",
       "    \n",
       "            &lt;meta name=&quot;viewport&quot; content=&quot;width=device-width,\n",
       "                initial-scale=1.0, maximum-scale=1.0, user-scalable=no&quot; /&gt;\n",
       "            &lt;style&gt;\n",
       "                #map_ed4bc78eb9bab2a6dd0a9ca84d127791 {\n",
       "                    position: relative;\n",
       "                    width: 100.0%;\n",
       "                    height: 100.0%;\n",
       "                    left: 0.0%;\n",
       "                    top: 0.0%;\n",
       "                }\n",
       "                .leaflet-container { font-size: 1rem; }\n",
       "            &lt;/style&gt;\n",
       "        \n",
       "&lt;/head&gt;\n",
       "&lt;body&gt;\n",
       "    \n",
       "    \n",
       "            &lt;div class=&quot;folium-map&quot; id=&quot;map_ed4bc78eb9bab2a6dd0a9ca84d127791&quot; &gt;&lt;/div&gt;\n",
       "        \n",
       "&lt;/body&gt;\n",
       "&lt;script&gt;\n",
       "    \n",
       "    \n",
       "            var map_ed4bc78eb9bab2a6dd0a9ca84d127791 = L.map(\n",
       "                &quot;map_ed4bc78eb9bab2a6dd0a9ca84d127791&quot;,\n",
       "                {\n",
       "                    center: [47.55506200249519, -2.7500000000010942],\n",
       "                    crs: L.CRS.EPSG3857,\n",
       "                    zoom: 10,\n",
       "                    zoomControl: true,\n",
       "                    preferCanvas: false,\n",
       "                    zoomLevel: 5,\n",
       "                }\n",
       "            );\n",
       "\n",
       "            \n",
       "\n",
       "        \n",
       "    \n",
       "            var tile_layer_b599de2300df3d210cad790614345f20 = L.tileLayer(\n",
       "                &quot;https://{s}.tile.openstreetmap.org/{z}/{x}/{y}.png&quot;,\n",
       "                {&quot;attribution&quot;: &quot;Data by \\u0026copy; \\u003ca target=\\&quot;_blank\\&quot; href=\\&quot;http://openstreetmap.org\\&quot;\\u003eOpenStreetMap\\u003c/a\\u003e, under \\u003ca target=\\&quot;_blank\\&quot; href=\\&quot;http://www.openstreetmap.org/copyright\\&quot;\\u003eODbL\\u003c/a\\u003e.&quot;, &quot;detectRetina&quot;: false, &quot;maxNativeZoom&quot;: 18, &quot;maxZoom&quot;: 18, &quot;minZoom&quot;: 0, &quot;noWrap&quot;: false, &quot;opacity&quot;: 1, &quot;subdomains&quot;: &quot;abc&quot;, &quot;tms&quot;: false}\n",
       "            ).addTo(map_ed4bc78eb9bab2a6dd0a9ca84d127791);\n",
       "        \n",
       "    \n",
       "            var tile_layer_ea9992c913a37841ed87714aefff3983 = L.tileLayer(\n",
       "                &quot;https://earthengine.googleapis.com/v1/projects/ee-davidhansen896/maps/962af84a53e41aeb330bc18eb60dc046-178a9559b260309f1297bad042548e65/tiles/{z}/{x}/{y}&quot;,\n",
       "                {&quot;attribution&quot;: &quot;Map Data \\u00a9 Google Earth Engine&quot;, &quot;detectRetina&quot;: false, &quot;maxNativeZoom&quot;: 18, &quot;maxZoom&quot;: 18, &quot;minZoom&quot;: 0, &quot;noWrap&quot;: false, &quot;opacity&quot;: 1, &quot;subdomains&quot;: &quot;abc&quot;, &quot;tms&quot;: false}\n",
       "            ).addTo(map_ed4bc78eb9bab2a6dd0a9ca84d127791);\n",
       "        \n",
       "    \n",
       "            var layer_control_7ae8d460ab7c334fdf0ab40269f4954b = {\n",
       "                base_layers : {\n",
       "                    &quot;openstreetmap&quot; : tile_layer_b599de2300df3d210cad790614345f20,\n",
       "                },\n",
       "                overlays :  {\n",
       "                    &quot;NDVI&quot; : tile_layer_ea9992c913a37841ed87714aefff3983,\n",
       "                },\n",
       "            };\n",
       "            L.control.layers(\n",
       "                layer_control_7ae8d460ab7c334fdf0ab40269f4954b.base_layers,\n",
       "                layer_control_7ae8d460ab7c334fdf0ab40269f4954b.overlays,\n",
       "                {&quot;autoZIndex&quot;: true, &quot;collapsed&quot;: true, &quot;position&quot;: &quot;topright&quot;}\n",
       "            ).addTo(map_ed4bc78eb9bab2a6dd0a9ca84d127791);\n",
       "        \n",
       "&lt;/script&gt;\n",
       "&lt;/html&gt;\" style=\"position:absolute;width:100%;height:100%;left:0;top:0;border:none !important;\" allowfullscreen webkitallowfullscreen mozallowfullscreen></iframe></div></div>"
      ],
      "text/plain": [
       "<folium.folium.Map at 0x1b85e0f93a0>"
      ]
     },
     "metadata": {},
     "output_type": "display_data"
    }
   ],
   "source": [
    "# Create map output of NDVI \n",
    "ndvi_map = folium.Map(location=map_center, zoom_level=5) # Zoom level to focus intial point of the map to aoi center\n",
    "\n",
    "# Set visual parameters NDVI\n",
    "vis_params_ndvi = {\n",
    "    'bands': ['NDVI'], \n",
    "    'min': 0, \n",
    "    'max': 1, \n",
    "    'palette': ['#2A20E5', '#2440CB', '#1E60B1', '#188097',\n",
    "                '#12A07D', '#0FB070', '#0CC063', '#06E049',\n",
    "               '#03F03C', '#00FF2F']\n",
    "}\n",
    "\n",
    "# Add NDVI to map\n",
    "ndvi_map.add_ee_layer(ndvi, vis_params_ndvi, 'NDVI')\n",
    "\n",
    "# Add a layer control panel to the map.\n",
    "ndvi_map.add_child(folium.LayerControl())\n",
    "\n",
    "# Display map \n",
    "display(ndvi_map)"
   ]
  }
 ],
 "metadata": {
  "kernelspec": {
   "display_name": "Python 3 (ipykernel)",
   "language": "python",
   "name": "python3"
  },
  "language_info": {
   "codemirror_mode": {
    "name": "ipython",
    "version": 3
   },
   "file_extension": ".py",
   "mimetype": "text/x-python",
   "name": "python",
   "nbconvert_exporter": "python",
   "pygments_lexer": "ipython3",
   "version": "3.12.3"
  }
 },
 "nbformat": 4,
 "nbformat_minor": 5
}

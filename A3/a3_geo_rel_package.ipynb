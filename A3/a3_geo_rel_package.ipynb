{
 "cells": [
  {
   "cell_type": "markdown",
   "source": [
    "# Assignment 3 - Using leaflet to display raster dat "
   ],
   "metadata": {
    "collapsed": false
   },
   "id": "b21f6df7baecf30d"
  },
  {
   "cell_type": "markdown",
   "source": [
    "## Installation of the GEE-API in new environment \n",
    "- Workflow based on: https://developers.google.com/earth-engine/guides/python_install-conda \n"
   ],
   "metadata": {
    "collapsed": false
   },
   "id": "71b00f1273bec84f"
  },
  {
   "cell_type": "code",
   "execution_count": null,
   "id": "initial_id",
   "metadata": {
    "collapsed": true,
    "is_executing": true
   },
   "outputs": [],
   "source": [
    "# Import needed libraries \n"
   ]
  },
  {
   "cell_type": "code",
   "outputs": [],
   "source": [
    "import ee "
   ],
   "metadata": {
    "collapsed": false,
    "is_executing": true
   },
   "id": "a4fbec011cbda9af"
  },
  {
   "cell_type": "code",
   "outputs": [],
   "source": [],
   "metadata": {
    "collapsed": false,
    "is_executing": true
   },
   "id": "f7e8d3ba5a2c5417"
  },
  {
   "cell_type": "code",
   "outputs": [],
   "source": [],
   "metadata": {
    "collapsed": false
   },
   "id": "2c04d1ccda081f10"
  }
 ],
 "metadata": {
  "kernelspec": {
   "display_name": "Python 3",
   "language": "python",
   "name": "python3"
  },
  "language_info": {
   "codemirror_mode": {
    "name": "ipython",
    "version": 2
   },
   "file_extension": ".py",
   "mimetype": "text/x-python",
   "name": "python",
   "nbconvert_exporter": "python",
   "pygments_lexer": "ipython2",
   "version": "2.7.6"
  }
 },
 "nbformat": 4,
 "nbformat_minor": 5
}

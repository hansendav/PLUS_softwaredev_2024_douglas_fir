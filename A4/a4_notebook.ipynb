{
 "cells": [
  {
   "cell_type": "code",
   "execution_count": 1,
   "id": "249dd83a-fdda-4315-b7e1-d7a075bfab64",
   "metadata": {},
   "outputs": [],
   "source": [
    "import ee "
   ]
  },
  {
   "cell_type": "code",
   "execution_count": 2,
   "id": "f3c3cc3a-18aa-4ef6-b494-5c531b44d78a",
   "metadata": {},
   "outputs": [
    {
     "data": {
      "text/plain": [
       "True"
      ]
     },
     "execution_count": 2,
     "metadata": {},
     "output_type": "execute_result"
    }
   ],
   "source": [
    "ee.Authenticate() "
   ]
  },
  {
   "cell_type": "code",
   "execution_count": 3,
   "id": "aee55e4d-fe4c-4232-84d4-b2dfc5e193e5",
   "metadata": {},
   "outputs": [],
   "source": [
    "ee.Initialize()"
   ]
  },
  {
   "cell_type": "code",
   "execution_count": 4,
   "id": "9014bc2a-fb99-422c-b92f-2080b993bb4b",
   "metadata": {},
   "outputs": [],
   "source": [
    "from a4_functionality import TimeSeries "
   ]
  },
  {
   "cell_type": "code",
   "execution_count": 5,
   "id": "00d2a8d2-31f2-4de2-a380-98117be61240",
   "metadata": {},
   "outputs": [
    {
     "data": {
      "text/plain": [
       "a4_functionality.TimeSeries"
      ]
     },
     "execution_count": 5,
     "metadata": {},
     "output_type": "execute_result"
    }
   ],
   "source": [
    "TimeSeries"
   ]
  },
  {
   "cell_type": "code",
   "execution_count": 6,
   "id": "155b7f6c-683d-4875-91a2-722feee8d6c2",
   "metadata": {},
   "outputs": [],
   "source": [
    "aoi = [-2.9,\n",
    "       47.48,\n",
    "       -2.6,\n",
    "       47.63\n",
    "      ]"
   ]
  },
  {
   "cell_type": "code",
   "execution_count": 7,
   "id": "f10950b1-bb8b-4632-8cbb-238375e0ce2b",
   "metadata": {},
   "outputs": [],
   "source": [
    "x = TimeSeries(aoi,\n",
    "            startdate='2023-06-01',\n",
    "            enddate='2023-08-30', \n",
    "            product= 'Sentinel', \n",
    "            cloudcover=10)"
   ]
  },
  {
   "cell_type": "code",
   "execution_count": 8,
   "id": "8e4fb734-9e05-441c-8d44-74e038c73ec9",
   "metadata": {},
   "outputs": [
    {
     "data": {
      "text/plain": [
       "7"
      ]
     },
     "execution_count": 8,
     "metadata": {},
     "output_type": "execute_result"
    }
   ],
   "source": [
    "len(x)"
   ]
  },
  {
   "cell_type": "code",
   "execution_count": 9,
   "id": "ad5f59ba-8ada-409a-b25e-3ef0a41648aa",
   "metadata": {},
   "outputs": [],
   "source": [
    "x.ndvi_collection() "
   ]
  },
  {
   "cell_type": "code",
   "execution_count": 10,
   "id": "bbae99d1-6555-427a-a655-526104f2d75c",
   "metadata": {},
   "outputs": [
    {
     "data": {
      "text/plain": [
       "['B1',\n",
       " 'B2',\n",
       " 'B3',\n",
       " 'B4',\n",
       " 'B5',\n",
       " 'B6',\n",
       " 'B7',\n",
       " 'B8',\n",
       " 'B8A',\n",
       " 'B9',\n",
       " 'B11',\n",
       " 'B12',\n",
       " 'AOT',\n",
       " 'WVP',\n",
       " 'SCL',\n",
       " 'TCI_R',\n",
       " 'TCI_G',\n",
       " 'TCI_B',\n",
       " 'MSK_CLDPRB',\n",
       " 'MSK_SNWPRB',\n",
       " 'QA10',\n",
       " 'QA20',\n",
       " 'QA60',\n",
       " 'NDVI']"
      ]
     },
     "execution_count": 10,
     "metadata": {},
     "output_type": "execute_result"
    }
   ],
   "source": [
    "x.get_bands() "
   ]
  },
  {
   "cell_type": "code",
   "execution_count": null,
   "id": "46e58d4d-3e5c-4faf-9c91-04f94b5207c0",
   "metadata": {},
   "outputs": [],
   "source": []
  }
 ],
 "metadata": {
  "kernelspec": {
   "display_name": "Python 3 (ipykernel)",
   "language": "python",
   "name": "python3"
  },
  "language_info": {
   "codemirror_mode": {
    "name": "ipython",
    "version": 3
   },
   "file_extension": ".py",
   "mimetype": "text/x-python",
   "name": "python",
   "nbconvert_exporter": "python",
   "pygments_lexer": "ipython3",
   "version": "3.12.3"
  }
 },
 "nbformat": 4,
 "nbformat_minor": 5
}

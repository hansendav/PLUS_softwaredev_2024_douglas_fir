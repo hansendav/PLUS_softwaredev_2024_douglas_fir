{
 "cells": [
  {
   "cell_type": "markdown",
   "id": "06634c80-72a2-426f-b2ce-f74094d09680",
   "metadata": {},
   "source": [
    "# Assignment 4 - 651051 Software Development:Python \n",
    "Author: David Hansen \n",
    "Matr. Nr.: 12315428\n",
    "\n",
    "## Content of the notebook \n",
    "This notebook is used to import a TimeSeries class from the the module file a4_notebook.py. It is based on the work on the final project but does not contain all the procedural functionality that the final project - Geoindexity - will offer. \n"
   ]
  },
  {
   "cell_type": "markdown",
   "id": "e3698d63-cdcd-45a3-819d-8e2ad28230f9",
   "metadata": {},
   "source": [
    "## Earth Engine API - Authentification and initialization \n",
    "At first, the earth engine package has to be imported and the user has to authentificate with a Google Account valid for the use of Google Earth Engine. "
   ]
  },
  {
   "cell_type": "code",
   "execution_count": 1,
   "id": "249dd83a-fdda-4315-b7e1-d7a075bfab64",
   "metadata": {},
   "outputs": [],
   "source": [
    "import ee "
   ]
  },
  {
   "cell_type": "code",
   "execution_count": 2,
   "id": "f3c3cc3a-18aa-4ef6-b494-5c531b44d78a",
   "metadata": {},
   "outputs": [],
   "source": [
    "ee.Authenticate() \n",
    "ee.Initialize()"
   ]
  },
  {
   "cell_type": "markdown",
   "id": "036e8038-e6e8-4595-9271-18a1b0abcfac",
   "metadata": {},
   "source": [
    "## Import of the a4_functionality script/module\n",
    "Next, the TimeSeries class is imported from the a4_functionality script that is located in the same folder as the notebook. "
   ]
  },
  {
   "cell_type": "code",
   "execution_count": 3,
   "id": "9014bc2a-fb99-422c-b92f-2080b993bb4b",
   "metadata": {},
   "outputs": [],
   "source": [
    "from a4_functionality import TimeSeries "
   ]
  },
  {
   "cell_type": "markdown",
   "id": "2973ed1f-c822-435b-a862-fcb4bbcbef2b",
   "metadata": {},
   "source": [
    "Using the help function the attributes for instantiation can be read. "
   ]
  },
  {
   "cell_type": "code",
   "execution_count": 4,
   "id": "00d2a8d2-31f2-4de2-a380-98117be61240",
   "metadata": {},
   "outputs": [
    {
     "name": "stdout",
     "output_type": "stream",
     "text": [
      "Help on class TimeSeries in module a4_functionality:\n",
      "\n",
      "class TimeSeries(builtins.object)\n",
      " |  TimeSeries(aoi, startdate, enddate, product, cloudcover)\n",
      " |\n",
      " |  A class that represents an ee.ImageCollection based on user specified\n",
      " |  filtering.\n",
      " |\n",
      " |  The user specified AOI is specified as a rectangle using the minimum and\n",
      " |  maximum latitude (y) and longitude (x) coordinates.\n",
      " |\n",
      " |  The AOI is only used to intersect ee.Collections to retreive intersecting\n",
      " |  images. The images are not reduced to the extend of the AOI\n",
      " |  when instantiated. A method for reducing the collection is not included\n",
      " |  in this script.\n",
      " |\n",
      " |  The product attribute defines the ee.Collection that the time-series is\n",
      " |  based on. Available are the following to collections:\n",
      " |\n",
      " |  Sentinel: Sentinel 2 - Surface Reflectance Harmonized\n",
      " |  Landsat: Landsat 8 - Surface Reflectance Tier 1\n",
      " |\n",
      " |  Image cloud cover is filtered lesser than/equal to (<=)\n",
      " |\n",
      " |  ...\n",
      " |\n",
      " |  Attributes\n",
      " |  ----------\n",
      " |  aoi : list\n",
      " |      [xmin, ymin, xmax, ymax]\n",
      " |  startdate : str\n",
      " |      'yyyy-mm-dd'\n",
      " |  enddate : str\n",
      " |      'yyyy-mm-dd'\n",
      " |  product: str\n",
      " |      GEE data set: 'Sentinel', 'Landsat'\n",
      " |  cloudcover: int\n",
      " |      percentage cloudcover threshold for series\n",
      " |\n",
      " |  Methods\n",
      " |  -------\n",
      " |  __init__(self):\n",
      " |      Instantiates the TimeSeries object.\n",
      " |\n",
      " |  __len__(self):\n",
      " |      Returns the number of images within the TimeSeries object.\n",
      " |\n",
      " |  add_ndvi(self, image):\n",
      " |      Calculates and adds the NDVI as a band to an image.\n",
      " |\n",
      " |  ndvi_collection(self):\n",
      " |      Maps the add_NDVI function to the collection of the TimeSeries\n",
      " |      object.\n",
      " |\n",
      " |  get_bands(self):\n",
      " |      Returns a list with all bands in the TimeSeries object\n",
      " |\n",
      " |  Methods defined here:\n",
      " |\n",
      " |  __init__(self, aoi, startdate, enddate, product, cloudcover)\n",
      " |      Instantiates the TimeSeries object.\n",
      " |\n",
      " |  __len__(self)\n",
      " |      Returns the number of images within the TimeSeries object.\n",
      " |\n",
      " |  add_NDVI(self, image)\n",
      " |      Calculates and adds the NDVI as a band to an image.\n",
      " |\n",
      " |      Is used in the mapping function ndvi_collection().\n",
      " |\n",
      " |      ...\n",
      " |\n",
      " |      Parameters\n",
      " |      ----------\n",
      " |      self: TimeSeries object\n",
      " |\n",
      " |      image: Provided ee.Image from the map()-function\n",
      " |\n",
      " |      Return\n",
      " |      ------\n",
      " |\n",
      " |      Input ee.Image with an additional NDVI band.\n",
      " |\n",
      " |  get_bands(self)\n",
      " |      Returns a list with all bands in the TimeSeries object\n",
      " |\n",
      " |  ndvi_collection(self)\n",
      " |      Maps the add_NDVI function to the collection of the TimeSeries\n",
      " |      object.\n",
      " |\n",
      " |      Uses the add_NDVI function.\n",
      " |\n",
      " |      ...\n",
      " |\n",
      " |      Parameters\n",
      " |      ----------\n",
      " |      self: TimeSeries object\n",
      " |\n",
      " |      Return\n",
      " |      ------\n",
      " |      ee.ImageCollection based on the TimeSeries collecion with an additional\n",
      " |      NDVI band.\n",
      " |\n",
      " |  ----------------------------------------------------------------------\n",
      " |  Data descriptors defined here:\n",
      " |\n",
      " |  __dict__\n",
      " |      dictionary for instance variables\n",
      " |\n",
      " |  __weakref__\n",
      " |      list of weak references to the object\n",
      "\n"
     ]
    }
   ],
   "source": [
    "help(TimeSeries)"
   ]
  },
  {
   "cell_type": "markdown",
   "id": "da4aef88-3118-47be-b962-a26952b6ed09",
   "metadata": {},
   "source": [
    "First a list with the maximum and minimum latitude and logitude coordinates of the AOI is created"
   ]
  },
  {
   "cell_type": "code",
   "execution_count": 5,
   "id": "155b7f6c-683d-4875-91a2-722feee8d6c2",
   "metadata": {},
   "outputs": [],
   "source": [
    "aoi = [-2.9,\n",
    "       47.48,\n",
    "       -2.6,\n",
    "       47.63\n",
    "      ]"
   ]
  },
  {
   "cell_type": "markdown",
   "id": "9b171eef-b5ce-49c4-9788-38cead008767",
   "metadata": {},
   "source": [
    "Next, we instantiate a TimeSeries object based on the aoi, a startdate, enddate, the Sentinel Collection and a cloud cover. "
   ]
  },
  {
   "cell_type": "code",
   "execution_count": 6,
   "id": "f10950b1-bb8b-4632-8cbb-238375e0ce2b",
   "metadata": {},
   "outputs": [],
   "source": [
    "x = TimeSeries(aoi,\n",
    "            startdate='2023-06-01',\n",
    "            enddate='2023-08-30', \n",
    "            product= 'Sentinel', \n",
    "            cloudcover=10)"
   ]
  },
  {
   "cell_type": "markdown",
   "id": "e9fa4705-b0c1-4b6a-b0a5-7260a58de671",
   "metadata": {},
   "source": [
    "To see how many images are used for the TimeSeries in object x the len() function can be used. It returns the number of images in the TimeSeries object. "
   ]
  },
  {
   "cell_type": "code",
   "execution_count": 7,
   "id": "8e4fb734-9e05-441c-8d44-74e038c73ec9",
   "metadata": {},
   "outputs": [
    {
     "data": {
      "text/plain": [
       "7"
      ]
     },
     "execution_count": 7,
     "metadata": {},
     "output_type": "execute_result"
    }
   ],
   "source": [
    "len(x)"
   ]
  },
  {
   "cell_type": "markdown",
   "id": "50abb95f-90f6-485d-96a2-21806b46bab4",
   "metadata": {},
   "source": [
    "Using the get_bands function the available bands within the TimeSeries object can be displayed. "
   ]
  },
  {
   "cell_type": "code",
   "execution_count": 8,
   "id": "bbae99d1-6555-427a-a655-526104f2d75c",
   "metadata": {},
   "outputs": [
    {
     "data": {
      "text/plain": [
       "['B1',\n",
       " 'B2',\n",
       " 'B3',\n",
       " 'B4',\n",
       " 'B5',\n",
       " 'B6',\n",
       " 'B7',\n",
       " 'B8',\n",
       " 'B8A',\n",
       " 'B9',\n",
       " 'B11',\n",
       " 'B12',\n",
       " 'AOT',\n",
       " 'WVP',\n",
       " 'SCL',\n",
       " 'TCI_R',\n",
       " 'TCI_G',\n",
       " 'TCI_B',\n",
       " 'MSK_CLDPRB',\n",
       " 'MSK_SNWPRB',\n",
       " 'QA10',\n",
       " 'QA20',\n",
       " 'QA60']"
      ]
     },
     "execution_count": 8,
     "metadata": {},
     "output_type": "execute_result"
    }
   ],
   "source": [
    "x.get_bands() "
   ]
  },
  {
   "cell_type": "markdown",
   "id": "9d615707-a5cd-4c87-9221-620c83ecc768",
   "metadata": {},
   "source": [
    "Key function of the TimeSeries object is create vegetation indices more easily. Using the ndvi_collection function the NDVI for every image of TimeSeries object gets added as additional band. An ee.ImageCollection gets returned that will be used to create TimeSeries charts in the final project. "
   ]
  },
  {
   "cell_type": "code",
   "execution_count": 9,
   "id": "0ea25a42-fa8b-4ec7-a3be-7b075d6846de",
   "metadata": {},
   "outputs": [
    {
     "data": {
      "text/plain": [
       "<ee.imagecollection.ImageCollection at 0x152caec42f0>"
      ]
     },
     "execution_count": 9,
     "metadata": {},
     "output_type": "execute_result"
    }
   ],
   "source": [
    "x.ndvi_collection()"
   ]
  },
  {
   "cell_type": "markdown",
   "id": "0e1262e0-eeec-456f-bd1d-7a96f745a798",
   "metadata": {},
   "source": [
    "If the new ee.ImageCollection gets assigned to the collection of the TimeSeries object, it can be seen that a new NDVI band has been created. "
   ]
  },
  {
   "cell_type": "code",
   "execution_count": 10,
   "id": "018883dc-9c89-40f4-977a-14415e6b054a",
   "metadata": {},
   "outputs": [],
   "source": [
    "x.collection = x.ndvi_collection() "
   ]
  },
  {
   "cell_type": "code",
   "execution_count": 11,
   "id": "465ba69a-81c5-4eb2-aa1a-4c309663c6a4",
   "metadata": {},
   "outputs": [
    {
     "data": {
      "text/plain": [
       "'NDVI'"
      ]
     },
     "execution_count": 11,
     "metadata": {},
     "output_type": "execute_result"
    }
   ],
   "source": [
    "x.get_bands()[-1]"
   ]
  }
 ],
 "metadata": {
  "kernelspec": {
   "display_name": "Python 3 (ipykernel)",
   "language": "python",
   "name": "python3"
  },
  "language_info": {
   "codemirror_mode": {
    "name": "ipython",
    "version": 3
   },
   "file_extension": ".py",
   "mimetype": "text/x-python",
   "name": "python",
   "nbconvert_exporter": "python",
   "pygments_lexer": "ipython3",
   "version": "3.12.3"
  }
 },
 "nbformat": 4,
 "nbformat_minor": 5
}

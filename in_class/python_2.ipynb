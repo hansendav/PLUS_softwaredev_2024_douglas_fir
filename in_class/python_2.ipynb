{
 "cells": [
  {
   "cell_type": "markdown",
   "source": [],
   "metadata": {
    "collapsed": false
   },
   "id": "18b9b91d6939238d"
  },
  {
   "cell_type": "code",
   "execution_count": 15,
   "id": "initial_id",
   "metadata": {
    "collapsed": true,
    "ExecuteTime": {
     "end_time": "2024-04-22T09:06:09.271873Z",
     "start_time": "2024-04-22T09:06:09.265885Z"
    }
   },
   "outputs": [],
   "source": [
    "import random\n",
    "x = [random.randrange(1, 10, 1) for i in range(10)]"
   ]
  },
  {
   "cell_type": "code",
   "outputs": [
    {
     "name": "stdout",
     "output_type": "stream",
     "text": [
      "The sum of all elements in x is 42\n"
     ]
    }
   ],
   "source": [
    "print(f\"The sum of all elements in x is {sum(x)}\")"
   ],
   "metadata": {
    "collapsed": false,
    "ExecuteTime": {
     "end_time": "2024-04-22T09:06:10.062346Z",
     "start_time": "2024-04-22T09:06:10.051405Z"
    }
   },
   "id": "bd817bfe43bf1787",
   "execution_count": 16
  },
  {
   "cell_type": "code",
   "outputs": [],
   "source": [
    "y = sorted(x)"
   ],
   "metadata": {
    "collapsed": false,
    "ExecuteTime": {
     "end_time": "2024-04-22T09:06:10.876185Z",
     "start_time": "2024-04-22T09:06:10.869889Z"
    }
   },
   "id": "b6fd048cee477a5e",
   "execution_count": 17
  },
  {
   "cell_type": "code",
   "outputs": [],
   "source": [
    "firstnames = ['Gernot', 'Rohit', 'David']\n",
    "lastnames = ['Nikolaus', 'Khati', 'Hansen']\n",
    "ghost_intake = [*zip(firstnames, lastnames)]"
   ],
   "metadata": {
    "collapsed": false,
    "ExecuteTime": {
     "end_time": "2024-04-22T09:08:01.799564Z",
     "start_time": "2024-04-22T09:08:01.793509Z"
    }
   },
   "id": "8d331688a27d40b0",
   "execution_count": 18
  },
  {
   "cell_type": "code",
   "outputs": [
    {
     "name": "stdout",
     "output_type": "stream",
     "text": [
      "[('Gernot', 'Nikolaus'), ('Rohit', 'Khati'), ('David', 'Hansen')]\n"
     ]
    }
   ],
   "source": [
    "print(ghost_intake)"
   ],
   "metadata": {
    "collapsed": false,
    "ExecuteTime": {
     "end_time": "2024-04-22T09:15:37.037111Z",
     "start_time": "2024-04-22T09:15:37.028665Z"
    }
   },
   "id": "b690dfbb6c41952f",
   "execution_count": 24
  },
  {
   "cell_type": "code",
   "outputs": [
    {
     "name": "stdout",
     "output_type": "stream",
     "text": [
      "Now is 2024-04-22 11:32:33.275044\n"
     ]
    }
   ],
   "source": [
    "from datetime import datetime\n",
    "datetime.now()\n",
    "print(f\"Now is {datetime.now()}\")"
   ],
   "metadata": {
    "collapsed": false,
    "ExecuteTime": {
     "end_time": "2024-04-22T09:32:33.277832Z",
     "start_time": "2024-04-22T09:32:33.273036Z"
    }
   },
   "id": "c815b5d0a79486f5",
   "execution_count": 31
  }
 ],
 "metadata": {
  "kernelspec": {
   "display_name": "Python 3",
   "language": "python",
   "name": "python3"
  },
  "language_info": {
   "codemirror_mode": {
    "name": "ipython",
    "version": 2
   },
   "file_extension": ".py",
   "mimetype": "text/x-python",
   "name": "python",
   "nbconvert_exporter": "python",
   "pygments_lexer": "ipython2",
   "version": "2.7.6"
  }
 },
 "nbformat": 4,
 "nbformat_minor": 5
}

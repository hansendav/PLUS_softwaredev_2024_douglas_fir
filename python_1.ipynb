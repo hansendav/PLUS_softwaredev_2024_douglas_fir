{
 "cells": [
  {
   "cell_type": "code",
   "execution_count": 1,
   "id": "5e0015eb-b4f0-4f5a-a575-103453c5011d",
   "metadata": {},
   "outputs": [],
   "source": [
    "# Start commenting your code properly! \n",
    "# Just \n",
    "# do \n",
    "# it! "
   ]
  },
  {
   "cell_type": "code",
   "execution_count": 3,
   "id": "033996cb-c12c-40c2-81bc-7aa33197bfcf",
   "metadata": {},
   "outputs": [
    {
     "data": {
      "text/plain": [
       "\"\\n'Write' something \\nthat needs more space\\nin multiple lines.\\n\""
      ]
     },
     "execution_count": 3,
     "metadata": {},
     "output_type": "execute_result"
    }
   ],
   "source": [
    "\"\"\"\n",
    "'Write' something \n",
    "that needs more space\n",
    "in multiple lines.\n",
    "\"\"\""
   ]
  },
  {
   "cell_type": "code",
   "execution_count": 4,
   "id": "8990e917-e83d-4ed6-9793-dfbe7b9f7685",
   "metadata": {},
   "outputs": [],
   "source": [
    "v1 = 123 \n",
    "v2 = '123' \n",
    "v3 = 'A different - type - of - string.' \n",
    "v4 = 5.23 \n",
    "v5 = False \n",
    "v6 = True "
   ]
  },
  {
   "cell_type": "code",
   "execution_count": 6,
   "id": "e600b520-ffdf-4205-b1dc-63c04edd3a93",
   "metadata": {},
   "outputs": [
    {
     "name": "stdout",
     "output_type": "stream",
     "text": [
      "<class 'str'>\n",
      "<class 'float'>\n"
     ]
    }
   ],
   "source": [
    "print(type(v3))\n",
    "print(type(v4))"
   ]
  },
  {
   "cell_type": "code",
   "execution_count": 8,
   "id": "e99d2d12-507e-4859-8c82-d0f98b6148e0",
   "metadata": {},
   "outputs": [
    {
     "name": "stdout",
     "output_type": "stream",
     "text": [
      "<class 'int'>\n",
      "<class 'bool'>\n",
      "<class 'bool'>\n"
     ]
    }
   ],
   "source": [
    "print(type(v1)) \n",
    "print(type(v5))\n",
    "print(type(v6))"
   ]
  },
  {
   "cell_type": "code",
   "execution_count": 14,
   "id": "135e1dfd-de84-461d-89ba-2070665f946c",
   "metadata": {},
   "outputs": [
    {
     "data": {
      "text/plain": [
       "{0: 0, 1: 3, 2: 6}"
      ]
     },
     "execution_count": 14,
     "metadata": {},
     "output_type": "execute_result"
    }
   ],
   "source": [
    "# Some dict comprehension\n",
    "{i: i*3 for i in range(3)}"
   ]
  },
  {
   "cell_type": "code",
   "execution_count": 15,
   "id": "d1383195-3082-4ebd-aa89-cde74fe8effc",
   "metadata": {},
   "outputs": [
    {
     "name": "stdout",
     "output_type": "stream",
     "text": [
      "This string \n",
      "is very long. \n",
      "I needs multiple \n",
      "l \n",
      "i \n",
      "n \n",
      "es\n"
     ]
    }
   ],
   "source": [
    "# A very long string \n",
    "long_string = \"\"\"This string \n",
    "is very long. \n",
    "I needs multiple \n",
    "l \n",
    "i \n",
    "n \n",
    "es\"\"\" \n",
    "\n",
    "print(long_string)"
   ]
  },
  {
   "cell_type": "code",
   "execution_count": 18,
   "id": "6b9e23f8-11ee-4443-8a76-bef783fb8009",
   "metadata": {},
   "outputs": [
    {
     "name": "stdout",
     "output_type": "stream",
     "text": [
      "Line1\n",
      "Line2Line3\n"
     ]
    }
   ],
   "source": [
    "# Using multiple parts \n",
    "long_string = (\"Line1\\n\"\n",
    "               \"Line2\"\n",
    "               \"Line3\")\n",
    "print(long_string)"
   ]
  },
  {
   "cell_type": "code",
   "execution_count": 21,
   "id": "34def0f4-8648-427b-9727-4a9772bf5684",
   "metadata": {},
   "outputs": [
    {
     "name": "stdout",
     "output_type": "stream",
     "text": [
      "<class 'float'>\n",
      "5\n",
      "<class 'int'>\n"
     ]
    }
   ],
   "source": [
    "# integers \n",
    "x = 4.6\n",
    "print(type(x))\n",
    "x = round(x) \n",
    "print(x) \n",
    "print(type(x))"
   ]
  },
  {
   "cell_type": "code",
   "execution_count": 62,
   "id": "6652a8ce-17dd-46a6-8c6b-f540c6738c1e",
   "metadata": {},
   "outputs": [],
   "source": [
    "# Create me some special pizzas combinations \n",
    "from itertools import combinations \n",
    "from random import randint\n",
    "\n",
    "ingredients_list = ['mushrooms', 'cheese', 'tomatoe', 'ham', 'ananas', 'paneer', 'chips', 'french fries'] \n",
    "\n",
    "def create_pizza(nr_ingredients): \n",
    "    \"\"\"Creates random combinations of ingrediants based on the nr_ingredients.\"\"\"\n",
    "    pizza_combinations = [*combinations(ingredients_list, nr_ingredients)]\n",
    "    pizza = pizza_combinations[randint(0, len(pizza_combinations))]\n",
    "    return pizza                               "
   ]
  },
  {
   "cell_type": "code",
   "execution_count": 38,
   "id": "46c5f6f3-9f42-4907-b14c-009ded8f7551",
   "metadata": {},
   "outputs": [
    {
     "name": "stdout",
     "output_type": "stream",
     "text": [
      "[('mushrooms', 'tomatoe', 'paneer'), ('tomatoe', 'ham', 'ananas'), ('tomatoe', 'ananas', 'paneer')]\n"
     ]
    }
   ],
   "source": [
    "# Make new menue \n",
    "menue = [] \n",
    "for i in range(3):\n",
    "    pizza = create_pizza(3) \n",
    "    menue.append(pizza)\n",
    "print(menue)"
   ]
  },
  {
   "cell_type": "code",
   "execution_count": 41,
   "id": "90698da4-3116-4a7b-a534-4d110e002dc5",
   "metadata": {},
   "outputs": [
    {
     "name": "stdout",
     "output_type": "stream",
     "text": [
      "{0: ('ham', 'ananas', 'chips'), 1: ('cheese', 'tomatoe', 'ananas'), 2: ('cheese', 'chips', 'french fries')}\n"
     ]
    }
   ],
   "source": [
    "# Create a new menue with 3 pizzas \n",
    "menue = {i: create_pizza(3) for i in range(3)}\n",
    "print(menue)"
   ]
  },
  {
   "cell_type": "code",
   "execution_count": 42,
   "id": "30bba555-e1c9-4599-a691-90ad305f4bc6",
   "metadata": {},
   "outputs": [
    {
     "data": {
      "text/plain": [
       "('cheese', 'tomatoe', 'ananas')"
      ]
     },
     "execution_count": 42,
     "metadata": {},
     "output_type": "execute_result"
    }
   ],
   "source": [
    "menue[1]"
   ]
  },
  {
   "cell_type": "code",
   "execution_count": 45,
   "id": "53f24718-285e-4b0f-9414-f3cd8478c92f",
   "metadata": {},
   "outputs": [],
   "source": [
    "# Add pizza manually \n",
    "menue['best_pizza'] = ('veggies', 'cheese')"
   ]
  },
  {
   "cell_type": "code",
   "execution_count": 46,
   "id": "f6cae545-a109-4830-9064-d835127549f8",
   "metadata": {},
   "outputs": [
    {
     "data": {
      "text/plain": [
       "{0: ('ham', 'ananas', 'chips'),\n",
       " 1: ('cheese', 'tomatoe', 'ananas'),\n",
       " 2: ('cheese', 'chips', 'french fries'),\n",
       " 'best_pizza': ('veggies', 'cheese')}"
      ]
     },
     "execution_count": 46,
     "metadata": {},
     "output_type": "execute_result"
    }
   ],
   "source": [
    "menue"
   ]
  },
  {
   "cell_type": "code",
   "execution_count": 53,
   "id": "1f2ca748-4454-4283-a939-0c88e6c8132b",
   "metadata": {},
   "outputs": [],
   "source": [
    "menue_keys = list(menue.keys())"
   ]
  },
  {
   "cell_type": "code",
   "execution_count": 58,
   "id": "42046afe-b73c-4b7c-9906-90b1ede144b8",
   "metadata": {},
   "outputs": [
    {
     "name": "stdout",
     "output_type": "stream",
     "text": [
      "('veggies', 'cheese')\n"
     ]
    }
   ],
   "source": [
    "if 'best_pizza' in menue_keys: \n",
    "    picked_pizza = menue['best_pizza']\n",
    "else: \n",
    "    pizza = menue[randint(0, len(menue))]\n",
    "print(picked_pizza)"
   ]
  },
  {
   "cell_type": "code",
   "execution_count": 63,
   "id": "85280ccf-3df8-4c6a-afd2-54be036464a0",
   "metadata": {},
   "outputs": [
    {
     "name": "stdout",
     "output_type": "stream",
     "text": [
      "Help on function create_pizza in module __main__:\n",
      "\n",
      "create_pizza(nr_ingredients)\n",
      "    Creates random combinations of ingrediants based on the nr_ingredients.\n",
      "\n"
     ]
    }
   ],
   "source": [
    "help(create_pizza)"
   ]
  }
 ],
 "metadata": {
  "kernelspec": {
   "display_name": "Python 3 (ipykernel)",
   "language": "python",
   "name": "python3"
  },
  "language_info": {
   "codemirror_mode": {
    "name": "ipython",
    "version": 3
   },
   "file_extension": ".py",
   "mimetype": "text/x-python",
   "name": "python",
   "nbconvert_exporter": "python",
   "pygments_lexer": "ipython3",
   "version": "3.9.18"
  }
 },
 "nbformat": 4,
 "nbformat_minor": 5
}
